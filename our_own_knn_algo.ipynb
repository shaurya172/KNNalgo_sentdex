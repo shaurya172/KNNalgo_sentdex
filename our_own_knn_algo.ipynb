{
 "cells": [
  {
   "cell_type": "code",
   "execution_count": 11,
   "metadata": {},
   "outputs": [],
   "source": [
    "import numpy as np\n",
    "from math import sqrt\n",
    "import matplotlib.pyplot as plt\n",
    "%matplotlib inline\n",
    "from matplotlib import style\n",
    "from collections import Counter\n",
    "style.use('fivethirtyeight')\n",
    "import warnings"
   ]
  },
  {
   "cell_type": "code",
   "execution_count": 16,
   "metadata": {},
   "outputs": [],
   "source": [
    "#             00    01    02           10    11    12\n",
    "dataset={'k':[[1,2],[2,3],[3,1]],'r':[[6,5],[7,7],[8,6]]} #dictionary key value pair"
   ]
  },
  {
   "cell_type": "code",
   "execution_count": 17,
   "metadata": {},
   "outputs": [],
   "source": [
    "new_features=[5,7] "
   ]
  },
  {
   "cell_type": "code",
   "execution_count": 18,
   "metadata": {},
   "outputs": [
    {
     "data": {
      "text/plain": [
       "[[<matplotlib.collections.PathCollection at 0x1e3ad586df0>,\n",
       "  <matplotlib.collections.PathCollection at 0x1e3ad583af0>,\n",
       "  <matplotlib.collections.PathCollection at 0x1e3ad5836a0>],\n",
       " [<matplotlib.collections.PathCollection at 0x1e3ad57ca60>,\n",
       "  <matplotlib.collections.PathCollection at 0x1e3ad57ca30>,\n",
       "  <matplotlib.collections.PathCollection at 0x1e3ad57cd60>]]"
      ]
     },
     "execution_count": 18,
     "metadata": {},
     "output_type": "execute_result"
    }
   ],
   "source": [
    "[[plt.scatter(ii[0],ii[1],s=100,color=i) for ii in dataset[i]]for i in dataset]"
   ]
  },
  {
   "cell_type": "code",
   "execution_count": 19,
   "metadata": {},
   "outputs": [
    {
     "data": {
      "image/png": "[encoded data removed]",
      "text/plain": [
       "<Figure size 432x288 with 1 Axes>"
      ]
     },
     "metadata": {},
     "output_type": "display_data"
    }
   ],
   "source": [
    "plt.show()"
   ]
  },
  {
   "cell_type": "code",
   "execution_count": 35,
   "metadata": {},
   "outputs": [],
   "source": [
    "def k_nearest_neighbors(data,predict,k=3):\n",
    "    if len(data)>=k :\n",
    "        warnings.warn('K is set to a value less than total voting groups! ')\n",
    "    distances=[]\n",
    "    for group in data: #iterating through each point and calculating distance\n",
    "        for features in data[group]:\n",
    "            euclidean_distance=np.linalg.norm(np.array(features)-np.array(predict))\n",
    "            distances.append([euclidean_distance,group])\n",
    "                \n",
    "    votes=[i[1] for i in sorted(distances)[:k]]\n",
    "    print(Counter(votes).most_common(1))\n",
    "    vote_result = Counter(votes).most_common(1)[0][0]\n",
    "    \n",
    "    return vote_result;\n",
    "    "
   ]
  },
  {
   "cell_type": "code",
   "execution_count": 36,
   "metadata": {},
   "outputs": [
    {
     "name": "stdout",
     "output_type": "stream",
     "text": [
      "[('r', 3)]\n",
      "r\n"
     ]
    }
   ],
   "source": [
    "result=k_nearest_neighbors(dataset,new_features,k=3);\n",
    "print(result);"
   ]
  },
  {
   "cell_type": "code",
   "execution_count": 37,
   "metadata": {},
   "outputs": [
    {
     "data": {
      "image/png": "[encoded data removed]",
      "text/plain": [
       "<Figure size 432x288 with 1 Axes>"
      ]
     },
     "metadata": {},
     "output_type": "display_data"
    }
   ],
   "source": [
    "[[plt.scatter(ii[0],ii[1],s=100,color=i) for ii in dataset[i]]for i in dataset]\n",
    "plt.scatter(new_features[0],new_features[1],color=result)\n",
    "plt.show()"
   ]
  },
  {
   "cell_type": "code",
   "execution_count": null,
   "metadata": {},
   "outputs": [],
   "source": [
    "#AWESOME!!!!!!!!!!!!!!!!!!!"
   ]
  },
  {
   "cell_type": "code",
   "execution_count": 38,
   "metadata": {},
   "outputs": [],
   "source": [
    "import pandas as pd\n",
    "import random"
   ]
  },
  {
   "cell_type": "code",
   "execution_count": 39,
   "metadata": {},
   "outputs": [],
   "source": [
    "df=pd.read_csv('bcw.csv')"
   ]
  },
  {
   "cell_type": "code",
   "execution_count": 41,
   "metadata": {},
   "outputs": [],
   "source": [
    "df.replace('?',-99999,inplace=True)"
   ]
  },
  {
   "cell_type": "code",
   "execution_count": 42,
   "metadata": {},
   "outputs": [],
   "source": [
    "df.drop(['id'],1,inplace=True)"
   ]
  },
  {
   "cell_type": "code",
   "execution_count": 43,
   "metadata": {},
   "outputs": [
    {
     "data": {
      "text/html": [
       "<div>\n",
       "<style scoped>\n",
       "    .dataframe tbody tr th:only-of-type {\n",
       "        vertical-align: middle;\n",
       "    }\n",
       "\n",
       "    .dataframe tbody tr th {\n",
       "        vertical-align: top;\n",
       "    }\n",
       "\n",
       "    .dataframe thead th {\n",
       "        text-align: right;\n",
       "    }\n",
       "</style>\n",
       "<table border=\"1\" class=\"dataframe\">\n",
       "  <thead>\n",
       "    <tr style=\"text-align: right;\">\n",
       "      <th></th>\n",
       "      <th>clump_thickness</th>\n",
       "      <th>unif_cell_size</th>\n",
       "      <th>unif_cell_shape</th>\n",
       "      <th>marg_adhesion</th>\n",
       "      <th>single_epith_cell_size</th>\n",
       "      <th>bare_nuclei</th>\n",
       "      <th>bland_chrom</th>\n",
       "      <th>norm_nucleoli</th>\n",
       "      <th>mitoses</th>\n",
       "      <th>class</th>\n",
       "    </tr>\n",
       "  </thead>\n",
       "  <tbody>\n",
       "    <tr>\n",
       "      <th>0</th>\n",
       "      <td>5</td>\n",
       "      <td>1</td>\n",
       "      <td>1</td>\n",
       "      <td>1</td>\n",
       "      <td>2</td>\n",
       "      <td>1</td>\n",
       "      <td>3</td>\n",
       "      <td>1</td>\n",
       "      <td>1</td>\n",
       "      <td>2</td>\n",
       "    </tr>\n",
       "    <tr>\n",
       "      <th>1</th>\n",
       "      <td>5</td>\n",
       "      <td>4</td>\n",
       "      <td>4</td>\n",
       "      <td>5</td>\n",
       "      <td>7</td>\n",
       "      <td>10</td>\n",
       "      <td>3</td>\n",
       "      <td>2</td>\n",
       "      <td>1</td>\n",
       "      <td>2</td>\n",
       "    </tr>\n",
       "    <tr>\n",
       "      <th>2</th>\n",
       "      <td>3</td>\n",
       "      <td>1</td>\n",
       "      <td>1</td>\n",
       "      <td>1</td>\n",
       "      <td>2</td>\n",
       "      <td>2</td>\n",
       "      <td>3</td>\n",
       "      <td>1</td>\n",
       "      <td>1</td>\n",
       "      <td>2</td>\n",
       "    </tr>\n",
       "    <tr>\n",
       "      <th>3</th>\n",
       "      <td>6</td>\n",
       "      <td>8</td>\n",
       "      <td>8</td>\n",
       "      <td>1</td>\n",
       "      <td>3</td>\n",
       "      <td>4</td>\n",
       "      <td>3</td>\n",
       "      <td>7</td>\n",
       "      <td>1</td>\n",
       "      <td>2</td>\n",
       "    </tr>\n",
       "    <tr>\n",
       "      <th>4</th>\n",
       "      <td>4</td>\n",
       "      <td>1</td>\n",
       "      <td>1</td>\n",
       "      <td>3</td>\n",
       "      <td>2</td>\n",
       "      <td>1</td>\n",
       "      <td>3</td>\n",
       "      <td>1</td>\n",
       "      <td>1</td>\n",
       "      <td>2</td>\n",
       "    </tr>\n",
       "  </tbody>\n",
       "</table>\n",
       "</div>"
      ],
      "text/plain": [
       "   clump_thickness  unif_cell_size  unif_cell_shape  marg_adhesion  \\\n",
       "0                5               1                1              1   \n",
       "1                5               4                4              5   \n",
       "2                3               1                1              1   \n",
       "3                6               8                8              1   \n",
       "4                4               1                1              3   \n",
       "\n",
       "   single_epith_cell_size bare_nuclei  bland_chrom  norm_nucleoli  mitoses  \\\n",
       "0                       2           1            3              1        1   \n",
       "1                       7          10            3              2        1   \n",
       "2                       2           2            3              1        1   \n",
       "3                       3           4            3              7        1   \n",
       "4                       2           1            3              1        1   \n",
       "\n",
       "   class  \n",
       "0      2  \n",
       "1      2  \n",
       "2      2  \n",
       "3      2  \n",
       "4      2  "
      ]
     },
     "execution_count": 43,
     "metadata": {},
     "output_type": "execute_result"
    }
   ],
   "source": [
    "df.head()"
   ]
  },
  {
   "cell_type": "code",
   "execution_count": 44,
   "metadata": {},
   "outputs": [],
   "source": [
    "full_data=df.astype(float).values.tolist()"
   ]
  },
  {
   "cell_type": "code",
   "execution_count": 45,
   "metadata": {},
   "outputs": [],
   "source": [
    "random.shuffle(full_data)"
   ]
  },
  {
   "cell_type": "code",
   "execution_count": 48,
   "metadata": {},
   "outputs": [
    {
     "name": "stdout",
     "output_type": "stream",
     "text": [
      "[[3.0, 1.0, 1.0, 1.0, 2.0, 2.0, 7.0, 1.0, 1.0, 2.0], [1.0, 1.0, 1.0, 1.0, 2.0, 1.0, 2.0, 1.0, 1.0, 2.0], [1.0, 1.0, 1.0, 1.0, 2.0, 1.0, 1.0, 1.0, 1.0, 2.0], [10.0, 6.0, 6.0, 3.0, 4.0, 5.0, 3.0, 6.0, 1.0, 4.0], [3.0, 1.0, 1.0, 1.0, 2.0, 1.0, 3.0, 1.0, 1.0, 2.0]]\n"
     ]
    }
   ],
   "source": [
    "print(full_data[:5])"
   ]
  },
  {
   "cell_type": "code",
   "execution_count": 52,
   "metadata": {},
   "outputs": [
    {
     "name": "stdout",
     "output_type": "stream",
     "text": [
      "[(2, 5)]\n",
      "[(2, 3)]\n",
      "[(2, 5)]\n",
      "[(2, 5)]\n",
      "[(2, 5)]\n",
      "[(2, 5)]\n",
      "[(2, 5)]\n",
      "[(2, 5)]\n",
      "[(2, 5)]\n",
      "[(2, 5)]\n",
      "[(2, 5)]\n",
      "[(2, 5)]\n",
      "[(2, 5)]\n",
      "[(2, 5)]\n",
      "[(2, 5)]\n",
      "[(2, 5)]\n",
      "[(2, 5)]\n",
      "[(2, 3)]\n",
      "[(2, 5)]\n",
      "[(2, 5)]\n",
      "[(2, 5)]\n",
      "[(2, 5)]\n",
      "[(2, 5)]\n",
      "[(2, 5)]\n",
      "[(2, 5)]\n",
      "[(2, 5)]\n",
      "[(2, 3)]\n",
      "[(2, 5)]\n",
      "[(2, 5)]\n",
      "[(2, 5)]\n",
      "[(2, 5)]\n",
      "[(2, 5)]\n",
      "[(2, 5)]\n",
      "[(2, 5)]\n",
      "[(2, 5)]\n",
      "[(2, 5)]\n",
      "[(2, 5)]\n",
      "[(4, 5)]\n",
      "[(2, 5)]\n",
      "[(2, 5)]\n",
      "[(2, 5)]\n",
      "[(2, 5)]\n",
      "[(2, 5)]\n",
      "[(2, 5)]\n",
      "[(2, 5)]\n",
      "[(2, 5)]\n",
      "[(2, 5)]\n",
      "[(2, 5)]\n",
      "[(2, 5)]\n",
      "[(2, 5)]\n",
      "[(2, 5)]\n",
      "[(2, 5)]\n",
      "[(2, 5)]\n",
      "[(2, 4)]\n",
      "[(2, 5)]\n",
      "[(2, 5)]\n",
      "[(2, 5)]\n",
      "[(2, 5)]\n",
      "[(2, 5)]\n",
      "[(2, 5)]\n",
      "[(2, 5)]\n",
      "[(2, 5)]\n",
      "[(2, 5)]\n",
      "[(2, 5)]\n",
      "[(2, 5)]\n",
      "[(2, 5)]\n",
      "[(2, 5)]\n",
      "[(2, 5)]\n",
      "[(2, 5)]\n",
      "[(2, 5)]\n",
      "[(2, 5)]\n",
      "[(2, 5)]\n",
      "[(2, 5)]\n",
      "[(2, 5)]\n",
      "[(2, 5)]\n",
      "[(2, 5)]\n",
      "[(2, 5)]\n",
      "[(2, 5)]\n",
      "[(2, 5)]\n",
      "[(2, 5)]\n",
      "[(2, 5)]\n",
      "[(2, 5)]\n",
      "[(2, 5)]\n",
      "[(2, 5)]\n",
      "[(2, 5)]\n",
      "[(2, 5)]\n",
      "[(2, 5)]\n",
      "[(2, 5)]\n",
      "[(2, 5)]\n",
      "[(2, 5)]\n",
      "[(2, 5)]\n",
      "[(2, 5)]\n",
      "[(2, 5)]\n",
      "[(2, 5)]\n",
      "[(2, 5)]\n",
      "[(2, 5)]\n",
      "[(4, 5)]\n",
      "[(4, 5)]\n",
      "[(4, 5)]\n",
      "[(4, 4)]\n",
      "[(4, 5)]\n",
      "[(4, 4)]\n",
      "[(4, 5)]\n",
      "[(4, 5)]\n",
      "[(4, 5)]\n",
      "[(4, 5)]\n",
      "[(4, 5)]\n",
      "[(4, 4)]\n",
      "[(4, 5)]\n",
      "[(4, 5)]\n",
      "[(4, 5)]\n",
      "[(4, 5)]\n",
      "[(4, 4)]\n",
      "[(4, 4)]\n",
      "[(4, 5)]\n",
      "[(4, 4)]\n",
      "[(4, 5)]\n",
      "[(4, 5)]\n",
      "[(4, 4)]\n",
      "[(4, 5)]\n",
      "[(4, 3)]\n",
      "[(4, 5)]\n",
      "[(4, 4)]\n",
      "[(4, 5)]\n",
      "[(4, 5)]\n",
      "[(4, 4)]\n",
      "[(4, 5)]\n",
      "[(4, 5)]\n",
      "[(4, 4)]\n",
      "[(4, 3)]\n",
      "[(4, 5)]\n",
      "[(4, 5)]\n",
      "[(4, 4)]\n",
      "[(4, 5)]\n",
      "[(4, 5)]\n",
      "[(4, 5)]\n",
      "[(4, 5)]\n",
      "[(4, 5)]\n",
      "[(4, 5)]\n"
     ]
    }
   ],
   "source": [
    "#\n",
    "test_size=0.2\n",
    "train_set={2:[],4:[]}\n",
    "test_set={2:[],4:[]}\n",
    "train_data= full_data[:-int(test_size*len(full_data))]#Everything upto the last 20% of the data\n",
    "test_data=full_data[-int(test_size*len(full_data)):]#The last20% of the data\n",
    "\n",
    "#Populating the dictionaries\n",
    "for i in train_data:#identify the class as 2 or 4 (from the last column) and append till last column into the train_set.\n",
    "    train_set[i[-1]].append(i[:-1])\n",
    "for i in test_data:#same for test data and test set\n",
    "    test_set[i[-1]].append(i[:-1])\n",
    "    \n",
    "correct=0\n",
    "total=0\n",
    "\n",
    "#Now we need to pass our data through KNN algo.\n",
    "for group in test_set:# 2 and 4 are the groups in test set.\n",
    "    for data in test_set[group]:\n",
    "        vote=k_nearest_neighbors(train_set,data,k=5)\n",
    "        if group == vote: \n",
    "            correct+=1\n",
    "        total+=1\n",
    "\n",
    "# so the train set and the test set each has 2 items, the first item is the list \n",
    "# of all cases with class 2 (benign tumor), the second item is the list of all cases\n",
    "# with class 4 (malignant tumors). we go through all items of train_data, each items i \n",
    "# is a list, and the last elment of the list (i[-1]) contains the information of the class \n",
    "# of the tumor. \n",
    "# For example, the first item in train_data belongs to class 2,\n",
    "# he writes train_set[i[-1]] = something (we will come back to explain what is something)\n",
    "# to locate which of the two items 2 and 4 shall be appended, then he appends that\n",
    "# list with all the features of that tumor (which is the something I mentioned)"
   ]
  },
  {
   "cell_type": "code",
   "execution_count": 53,
   "metadata": {},
   "outputs": [
    {
     "name": "stdout",
     "output_type": "stream",
     "text": [
      "0.9928057553956835\n"
     ]
    }
   ],
   "source": [
    "print(correct/total)"
   ]
  },
  {
   "cell_type": "code",
   "execution_count": null,
   "metadata": {},
   "outputs": [],
   "source": [
    "#99% , that's a very good outcome!"
   ]
  }
 ],
 "metadata": {
  "kernelspec": {
   "display_name": "Python 3",
   "language": "python",
   "name": "python3"
  },
  "language_info": {
   "codemirror_mode": {
    "name": "ipython",
    "version": 3
   },
   "file_extension": ".py",
   "mimetype": "text/x-python",
   "name": "python",
   "nbconvert_exporter": "python",
   "pygments_lexer": "ipython3",
   "version": "3.8.3rc1"
  }
 },
 "nbformat": 4,
 "nbformat_minor": 4
}
